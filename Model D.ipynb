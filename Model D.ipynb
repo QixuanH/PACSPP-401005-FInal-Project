{
  "cells": [
    {
      "cell_type": "code",
      "execution_count": null,
      "metadata": {
        "id": "df660e87"
      },
      "outputs": [],
      "source": [
        "import random\n",
        "import h5py\n",
        "import numpy as np\n",
        "import tensorflow as tf\n",
        "from tensorflow.keras import utils\n",
        "from sklearn.model_selection import train_test_split\n",
        "from tensorflow.keras.models import Sequential, Model\n",
        "from tensorflow.keras.layers import Dense, Dropout, Flatten, Activation, Conv2D, MaxPooling2D"
      ],
      "id": "df660e87"
    },
    {
      "cell_type": "code",
      "execution_count": null,
      "metadata": {
        "colab": {
          "base_uri": "https://localhost:8080/"
        },
        "id": "-WqA_o105YYd",
        "outputId": "537bba03-15fd-447c-8cca-db0e29ebb7c4"
      },
      "outputs": [
        {
          "output_type": "stream",
          "name": "stdout",
          "text": [
            "Mounted at /content/drive\n"
          ]
        }
      ],
      "source": [
        "from google.colab import drive\n",
        "drive.mount('/content/drive')"
      ],
      "id": "-WqA_o105YYd"
    },
    {
      "cell_type": "code",
      "execution_count": null,
      "metadata": {
        "id": "7b0e2ce9"
      },
      "outputs": [],
      "source": [
        "# To get the images and labels from file\n",
        "with h5py.File('/content/drive/MyDrive/Colab Notebooks/Galaxy10_DECals.h5', 'r') as F:\n",
        "    images = np.array(F['images'])\n",
        "    labels = np.array(F['ans'])"
      ],
      "id": "7b0e2ce9"
    },
    {
      "cell_type": "code",
      "execution_count": null,
      "metadata": {
        "id": "793b1fc0"
      },
      "outputs": [],
      "source": [
        "'''\n",
        "indices = list(range(len(images)))\n",
        "\n",
        "selected_indices = random.sample(indices, 3000)\n",
        "\n",
        "selected_images = np.array([images[i] for i in selected_indices])\n",
        "selected_labels = np.array([labels[i] for i in selected_indices])\n",
        "\n",
        "\n",
        "# To convert the labels to categorical 10 classes\n",
        "selected_labels = utils.to_categorical(selected_labels)\n",
        "\n",
        "# To convert to desirable type\n",
        "selected_labels = selected_labels.astype(np.float32)\n",
        "selected_images = selected_images.astype(np.float32) / 255.0\n",
        "'''\n",
        "# To convert the labels to categorical 10 classes\n",
        "labels = utils.to_categorical(labels, 10)\n",
        "\n",
        "# To convert to desirable type\n",
        "selected_labels = labels.astype(np.float32)\n",
        "selected_images = images.astype(np.float32) / 255.0"
      ],
      "id": "793b1fc0"
    },
    {
      "cell_type": "code",
      "execution_count": null,
      "metadata": {
        "id": "ba49f700"
      },
      "outputs": [],
      "source": [
        "train_idx, test_idx = train_test_split(np.arange(selected_labels.shape[0]), test_size=0.1)\n",
        "train_images, train_labels, test_images, test_labels = selected_images[train_idx], selected_labels[train_idx], selected_images[test_idx], selected_labels[test_idx]"
      ],
      "id": "ba49f700"
    },
    {
      "cell_type": "code",
      "execution_count": null,
      "metadata": {
        "colab": {
          "base_uri": "https://localhost:8080/"
        },
        "id": "14e1fe17",
        "outputId": "8a5fd1c9-f826-4207-8593-09a24ac11609"
      },
      "outputs": [
        {
          "output_type": "stream",
          "name": "stdout",
          "text": [
            "Model: \"sequential\"\n",
            "_________________________________________________________________\n",
            " Layer (type)                Output Shape              Param #   \n",
            "=================================================================\n",
            " conv2d (Conv2D)             (None, 254, 254, 32)      896       \n",
            "                                                                 \n",
            " max_pooling2d (MaxPooling2  (None, 127, 127, 32)      0         \n",
            " D)                                                              \n",
            "                                                                 \n",
            " batch_normalization (Batch  (None, 127, 127, 32)      128       \n",
            " Normalization)                                                  \n",
            "                                                                 \n",
            " conv2d_1 (Conv2D)           (None, 125, 125, 32)      9248      \n",
            "                                                                 \n",
            " average_pooling2d (Average  (None, 62, 62, 32)        0         \n",
            " Pooling2D)                                                      \n",
            "                                                                 \n",
            " batch_normalization_1 (Bat  (None, 62, 62, 32)        128       \n",
            " chNormalization)                                                \n",
            "                                                                 \n",
            " conv2d_2 (Conv2D)           (None, 60, 60, 32)        9248      \n",
            "                                                                 \n",
            " average_pooling2d_1 (Avera  (None, 30, 30, 32)        0         \n",
            " gePooling2D)                                                    \n",
            "                                                                 \n",
            " batch_normalization_2 (Bat  (None, 30, 30, 32)        128       \n",
            " chNormalization)                                                \n",
            "                                                                 \n",
            " conv2d_3 (Conv2D)           (None, 28, 28, 32)        9248      \n",
            "                                                                 \n",
            " average_pooling2d_2 (Avera  (None, 14, 14, 32)        0         \n",
            " gePooling2D)                                                    \n",
            "                                                                 \n",
            " batch_normalization_3 (Bat  (None, 14, 14, 32)        128       \n",
            " chNormalization)                                                \n",
            "                                                                 \n",
            " conv2d_4 (Conv2D)           (None, 12, 12, 32)        9248      \n",
            "                                                                 \n",
            " average_pooling2d_3 (Avera  (None, 6, 6, 32)          0         \n",
            " gePooling2D)                                                    \n",
            "                                                                 \n",
            " batch_normalization_4 (Bat  (None, 6, 6, 32)          128       \n",
            " chNormalization)                                                \n",
            "                                                                 \n",
            " flatten (Flatten)           (None, 1152)              0         \n",
            "                                                                 \n",
            " dense (Dense)               (None, 128)               147584    \n",
            "                                                                 \n",
            " batch_normalization_5 (Bat  (None, 128)               512       \n",
            " chNormalization)                                                \n",
            "                                                                 \n",
            " dropout (Dropout)           (None, 128)               0         \n",
            "                                                                 \n",
            " dense_1 (Dense)             (None, 128)               16512     \n",
            "                                                                 \n",
            " batch_normalization_6 (Bat  (None, 128)               512       \n",
            " chNormalization)                                                \n",
            "                                                                 \n",
            " dropout_1 (Dropout)         (None, 128)               0         \n",
            "                                                                 \n",
            " dense_2 (Dense)             (None, 128)               16512     \n",
            "                                                                 \n",
            " batch_normalization_7 (Bat  (None, 128)               512       \n",
            " chNormalization)                                                \n",
            "                                                                 \n",
            " dropout_2 (Dropout)         (None, 128)               0         \n",
            "                                                                 \n",
            " dense_3 (Dense)             (None, 128)               16512     \n",
            "                                                                 \n",
            " batch_normalization_8 (Bat  (None, 128)               512       \n",
            " chNormalization)                                                \n",
            "                                                                 \n",
            " dropout_3 (Dropout)         (None, 128)               0         \n",
            "                                                                 \n",
            " dense_4 (Dense)             (None, 128)               16512     \n",
            "                                                                 \n",
            " batch_normalization_9 (Bat  (None, 128)               512       \n",
            " chNormalization)                                                \n",
            "                                                                 \n",
            " dropout_4 (Dropout)         (None, 128)               0         \n",
            "                                                                 \n",
            " dense_5 (Dense)             (None, 128)               16512     \n",
            "                                                                 \n",
            " batch_normalization_10 (Ba  (None, 128)               512       \n",
            " tchNormalization)                                               \n",
            "                                                                 \n",
            " dropout_5 (Dropout)         (None, 128)               0         \n",
            "                                                                 \n",
            " dense_6 (Dense)             (None, 10)                1290      \n",
            "                                                                 \n",
            "=================================================================\n",
            "Total params: 273034 (1.04 MB)\n",
            "Trainable params: 271178 (1.03 MB)\n",
            "Non-trainable params: 1856 (7.25 KB)\n",
            "_________________________________________________________________\n"
          ]
        }
      ],
      "source": [
        "# To build the CNN model\n",
        "CNN_model = Sequential()\n",
        "#Convolutional\n",
        "CNN_model.add(tf.keras.layers.Conv2D(32,(3,3),activation = 'relu',input_shape = (256,256,3)))\n",
        "CNN_model.add(tf.keras.layers.MaxPooling2D((2,2)))\n",
        "CNN_model.add(tf.keras.layers.BatchNormalization(synchronized=True))\n",
        "\n",
        "CNN_model.add(tf.keras.layers.Conv2D(32,(3,3),activation = 'relu'))\n",
        "CNN_model.add(tf.keras.layers.AveragePooling2D((2,2)))\n",
        "CNN_model.add(tf.keras.layers.BatchNormalization(synchronized=True))\n",
        "\n",
        "CNN_model.add(tf.keras.layers.Conv2D(32,(3,3),activation = 'relu'))\n",
        "CNN_model.add(tf.keras.layers.AveragePooling2D((2,2)))\n",
        "CNN_model.add(tf.keras.layers.BatchNormalization(synchronized=True))\n",
        "\n",
        "CNN_model.add(tf.keras.layers.Conv2D(32,(3,3),activation = 'relu'))\n",
        "CNN_model.add(tf.keras.layers.AveragePooling2D((2,2)))\n",
        "CNN_model.add(tf.keras.layers.BatchNormalization(synchronized=True))\n",
        "\n",
        "CNN_model.add(tf.keras.layers.Conv2D(32,(3,3),activation = 'relu'))\n",
        "CNN_model.add(tf.keras.layers.AveragePooling2D((2,2)))\n",
        "CNN_model.add(tf.keras.layers.BatchNormalization(synchronized=True))\n",
        "\n",
        "#Flatten\n",
        "CNN_model.add(tf.keras.layers.Flatten())\n",
        "#Fully connected\n",
        "CNN_model.add(tf.keras.layers.Dense(128,activation = 'sigmoid'))\n",
        "CNN_model.add(tf.keras.layers.BatchNormalization(synchronized=True))\n",
        "CNN_model.add(tf.keras.layers.Dropout(0.5))\n",
        "CNN_model.add(tf.keras.layers.Dense(128,activation = 'sigmoid'))\n",
        "CNN_model.add(tf.keras.layers.BatchNormalization(synchronized=True))\n",
        "CNN_model.add(tf.keras.layers.Dropout(0.5))\n",
        "CNN_model.add(tf.keras.layers.Dense(128,activation = 'tanh'))\n",
        "CNN_model.add(tf.keras.layers.BatchNormalization(synchronized=True))\n",
        "CNN_model.add(tf.keras.layers.Dropout(0.5))\n",
        "CNN_model.add(tf.keras.layers.Dense(128,activation = 'tanh'))\n",
        "CNN_model.add(tf.keras.layers.BatchNormalization(synchronized=True))\n",
        "CNN_model.add(tf.keras.layers.Dropout(0.5))\n",
        "CNN_model.add(tf.keras.layers.Dense(128,activation = 'relu'))\n",
        "CNN_model.add(tf.keras.layers.BatchNormalization(synchronized=True))\n",
        "CNN_model.add(tf.keras.layers.Dropout(0.5))\n",
        "CNN_model.add(tf.keras.layers.Dense(128,activation = 'relu'))\n",
        "CNN_model.add(tf.keras.layers.BatchNormalization(synchronized=True))\n",
        "CNN_model.add(tf.keras.layers.Dropout(0.5))\n",
        "#output\n",
        "CNN_model.add(tf.keras.layers.Dense(10,activation = 'softmax'))\n",
        "\n",
        "CNN_model.compile(optimizer = 'adam',loss = 'categorical_crossentropy',metrics = ['accuracy'])\n",
        "CNN_model.summary()"
      ],
      "id": "14e1fe17"
    },
    {
      "cell_type": "code",
      "execution_count": null,
      "metadata": {
        "colab": {
          "base_uri": "https://localhost:8080/"
        },
        "id": "838a51ae",
        "outputId": "6f917d72-e89f-41db-db6c-f80501e1df1b"
      },
      "outputs": [
        {
          "output_type": "stream",
          "name": "stdout",
          "text": [
            "Epoch 1/40\n",
            "350/350 [==============================] - 37s 46ms/step - loss: 2.8091 - accuracy: 0.1530 - val_loss: 2.3569 - val_accuracy: 0.1846\n",
            "Epoch 2/40\n",
            "350/350 [==============================] - 10s 29ms/step - loss: 2.1983 - accuracy: 0.2047 - val_loss: 2.3008 - val_accuracy: 0.2080\n",
            "Epoch 3/40\n",
            "350/350 [==============================] - 10s 29ms/step - loss: 2.0203 - accuracy: 0.2362 - val_loss: 1.9996 - val_accuracy: 0.2748\n",
            "Epoch 4/40\n",
            "350/350 [==============================] - 10s 29ms/step - loss: 1.8681 - accuracy: 0.2811 - val_loss: 1.6663 - val_accuracy: 0.3610\n",
            "Epoch 5/40\n",
            "350/350 [==============================] - 10s 30ms/step - loss: 1.7646 - accuracy: 0.3298 - val_loss: 1.5742 - val_accuracy: 0.3928\n",
            "Epoch 6/40\n",
            "350/350 [==============================] - 10s 29ms/step - loss: 1.7133 - accuracy: 0.3554 - val_loss: 1.5706 - val_accuracy: 0.4187\n",
            "Epoch 7/40\n",
            "350/350 [==============================] - 10s 29ms/step - loss: 1.6483 - accuracy: 0.3841 - val_loss: 1.9674 - val_accuracy: 0.3811\n",
            "Epoch 8/40\n",
            "350/350 [==============================] - 10s 29ms/step - loss: 1.6099 - accuracy: 0.4048 - val_loss: 1.7134 - val_accuracy: 0.3828\n",
            "Epoch 9/40\n",
            "350/350 [==============================] - 10s 29ms/step - loss: 1.5704 - accuracy: 0.4287 - val_loss: 1.6029 - val_accuracy: 0.4024\n",
            "Epoch 10/40\n",
            "350/350 [==============================] - 10s 29ms/step - loss: 1.5112 - accuracy: 0.4537 - val_loss: 2.2299 - val_accuracy: 0.3086\n",
            "Epoch 11/40\n",
            "350/350 [==============================] - 10s 29ms/step - loss: 1.5097 - accuracy: 0.4550 - val_loss: 1.4320 - val_accuracy: 0.4986\n",
            "Epoch 12/40\n",
            "350/350 [==============================] - 10s 29ms/step - loss: 1.4656 - accuracy: 0.4772 - val_loss: 1.4890 - val_accuracy: 0.4569\n",
            "Epoch 13/40\n",
            "350/350 [==============================] - 10s 29ms/step - loss: 1.4037 - accuracy: 0.4983 - val_loss: 1.3961 - val_accuracy: 0.5028\n",
            "Epoch 14/40\n",
            "350/350 [==============================] - 10s 29ms/step - loss: 1.3681 - accuracy: 0.5201 - val_loss: 1.2127 - val_accuracy: 0.5805\n",
            "Epoch 15/40\n",
            "350/350 [==============================] - 10s 29ms/step - loss: 1.3413 - accuracy: 0.5299 - val_loss: 1.2922 - val_accuracy: 0.5644\n",
            "Epoch 16/40\n",
            "350/350 [==============================] - 10s 29ms/step - loss: 1.2954 - accuracy: 0.5581 - val_loss: 1.1705 - val_accuracy: 0.6005\n",
            "Epoch 17/40\n",
            "350/350 [==============================] - 10s 29ms/step - loss: 1.2613 - accuracy: 0.5750 - val_loss: 1.2706 - val_accuracy: 0.5546\n",
            "Epoch 18/40\n",
            "350/350 [==============================] - 10s 29ms/step - loss: 1.2312 - accuracy: 0.5846 - val_loss: 1.4821 - val_accuracy: 0.5108\n",
            "Epoch 19/40\n",
            "350/350 [==============================] - 10s 29ms/step - loss: 1.2023 - accuracy: 0.5974 - val_loss: 1.1244 - val_accuracy: 0.6273\n",
            "Epoch 20/40\n",
            "350/350 [==============================] - 10s 29ms/step - loss: 1.1683 - accuracy: 0.6107 - val_loss: 1.7010 - val_accuracy: 0.4187\n",
            "Epoch 21/40\n",
            "350/350 [==============================] - 10s 29ms/step - loss: 1.1653 - accuracy: 0.6126 - val_loss: 1.3771 - val_accuracy: 0.5289\n",
            "Epoch 22/40\n",
            "350/350 [==============================] - 10s 29ms/step - loss: 1.1499 - accuracy: 0.6187 - val_loss: 1.1393 - val_accuracy: 0.6116\n",
            "Epoch 23/40\n",
            "350/350 [==============================] - 10s 29ms/step - loss: 1.1132 - accuracy: 0.6353 - val_loss: 1.1117 - val_accuracy: 0.6350\n",
            "Epoch 24/40\n",
            "350/350 [==============================] - 10s 29ms/step - loss: 1.1070 - accuracy: 0.6365 - val_loss: 1.0402 - val_accuracy: 0.6475\n",
            "Epoch 25/40\n",
            "350/350 [==============================] - 10s 29ms/step - loss: 1.0814 - accuracy: 0.6453 - val_loss: 1.2566 - val_accuracy: 0.5845\n",
            "Epoch 26/40\n",
            "350/350 [==============================] - 10s 29ms/step - loss: 1.0592 - accuracy: 0.6538 - val_loss: 1.0018 - val_accuracy: 0.6780\n",
            "Epoch 27/40\n",
            "350/350 [==============================] - 10s 29ms/step - loss: 1.0443 - accuracy: 0.6593 - val_loss: 0.9623 - val_accuracy: 0.6862\n",
            "Epoch 28/40\n",
            "350/350 [==============================] - 10s 29ms/step - loss: 1.0200 - accuracy: 0.6733 - val_loss: 1.2285 - val_accuracy: 0.6045\n",
            "Epoch 29/40\n",
            "350/350 [==============================] - 10s 29ms/step - loss: 1.0274 - accuracy: 0.6665 - val_loss: 1.3168 - val_accuracy: 0.5686\n",
            "Epoch 30/40\n",
            "350/350 [==============================] - 10s 29ms/step - loss: 0.9901 - accuracy: 0.6833 - val_loss: 1.0289 - val_accuracy: 0.6766\n",
            "Epoch 31/40\n",
            "350/350 [==============================] - 10s 29ms/step - loss: 0.9659 - accuracy: 0.6900 - val_loss: 1.1853 - val_accuracy: 0.6365\n",
            "Epoch 32/40\n",
            "350/350 [==============================] - 10s 29ms/step - loss: 0.9593 - accuracy: 0.6949 - val_loss: 1.4645 - val_accuracy: 0.5402\n",
            "Epoch 33/40\n",
            "350/350 [==============================] - 10s 29ms/step - loss: 0.9652 - accuracy: 0.6886 - val_loss: 1.1823 - val_accuracy: 0.5972\n",
            "Epoch 34/40\n",
            "350/350 [==============================] - 10s 30ms/step - loss: 0.9353 - accuracy: 0.7072 - val_loss: 1.2886 - val_accuracy: 0.5855\n",
            "Epoch 35/40\n",
            "350/350 [==============================] - 10s 29ms/step - loss: 0.9214 - accuracy: 0.7088 - val_loss: 0.9646 - val_accuracy: 0.6966\n",
            "Epoch 36/40\n",
            "350/350 [==============================] - 10s 29ms/step - loss: 0.9160 - accuracy: 0.7087 - val_loss: 1.4492 - val_accuracy: 0.5676\n",
            "Epoch 37/40\n",
            "350/350 [==============================] - 10s 29ms/step - loss: 0.9150 - accuracy: 0.7125 - val_loss: 1.3416 - val_accuracy: 0.6003\n",
            "Epoch 38/40\n",
            "350/350 [==============================] - 10s 29ms/step - loss: 0.8994 - accuracy: 0.7146 - val_loss: 1.1834 - val_accuracy: 0.6237\n",
            "Epoch 39/40\n",
            "350/350 [==============================] - 10s 29ms/step - loss: 0.8786 - accuracy: 0.7265 - val_loss: 1.0750 - val_accuracy: 0.6665\n",
            "Epoch 40/40\n",
            "350/350 [==============================] - 10s 29ms/step - loss: 0.8761 - accuracy: 0.7248 - val_loss: 1.4239 - val_accuracy: 0.5644\n"
          ]
        }
      ],
      "source": [
        "batch_size = 32\n",
        "epochs = 40\n",
        "\n",
        "# keep a validation split of 0.2 to begin with and fit the model\n",
        "# your code here\n",
        "history = CNN_model.fit(train_images, train_labels,\n",
        "                    batch_size=batch_size,\n",
        "                    epochs=epochs,\n",
        "                    validation_split=0.3)"
      ],
      "id": "838a51ae"
    },
    {
      "cell_type": "code",
      "execution_count": null,
      "metadata": {
        "colab": {
          "base_uri": "https://localhost:8080/",
          "height": 448
        },
        "id": "89c26669",
        "outputId": "863fba3f-e04f-49dd-b0df-be9c7c437385"
      },
      "outputs": [
        {
          "output_type": "execute_result",
          "data": {
            "text/plain": [
              "[<matplotlib.lines.Line2D at 0x7ad6e421ab60>]"
            ]
          },
          "metadata": {},
          "execution_count": 8
        },
        {
          "output_type": "display_data",
          "data": {
            "text/plain": [
              "<Figure size 640x480 with 1 Axes>"
            ],
            "image/png": "[encoded data removed]"
          },
          "metadata": {}
        }
      ],
      "source": [
        "import matplotlib.pyplot as plt\n",
        "\n",
        "plt.plot(history.history['accuracy'])\n",
        "plt.plot(history.history['val_accuracy'])"
      ],
      "id": "89c26669"
    },
    {
      "cell_type": "code",
      "execution_count": null,
      "metadata": {
        "colab": {
          "base_uri": "https://localhost:8080/",
          "height": 448
        },
        "id": "2ee22cce-8a04-437a-bdf9-e99081625099",
        "outputId": "fd5af313-e7c0-4b6a-c830-d46a71eeea5f"
      },
      "outputs": [
        {
          "output_type": "execute_result",
          "data": {
            "text/plain": [
              "[<matplotlib.lines.Line2D at 0x7ad6e4116b90>]"
            ]
          },
          "metadata": {},
          "execution_count": 9
        },
        {
          "output_type": "display_data",
          "data": {
            "text/plain": [
              "<Figure size 640x480 with 1 Axes>"
            ],
            "image/png": "[encoded data removed]"
          },
          "metadata": {}
        }
      ],
      "source": [
        "plt.plot(history.history['loss'])\n",
        "plt.plot(history.history['val_loss'])"
      ],
      "id": "2ee22cce-8a04-437a-bdf9-e99081625099"
    },
    {
      "cell_type": "code",
      "execution_count": null,
      "metadata": {
        "colab": {
          "base_uri": "https://localhost:8080/"
        },
        "id": "RtVMUcsOQsOy",
        "outputId": "62f891c9-6846-48ab-dd98-e52c5ce900f4"
      },
      "outputs": [
        {
          "output_type": "stream",
          "name": "stdout",
          "text": [
            "56/56 [==============================] - 1s 14ms/step - loss: 1.4256 - accuracy: 0.5626\n"
          ]
        },
        {
          "output_type": "execute_result",
          "data": {
            "text/plain": [
              "[1.4256385564804077, 0.5625704526901245]"
            ]
          },
          "metadata": {},
          "execution_count": 10
        }
      ],
      "source": [
        "CNN_model.evaluate(test_images, test_labels)"
      ],
      "id": "RtVMUcsOQsOy"
    },
    {
      "cell_type": "code",
      "source": [
        "from sklearn.metrics import confusion_matrix\n",
        "test_pred = CNN_model.predict(test_images)\n",
        "test_pred = np.argmax(test_pred, axis=1)\n",
        "test_labels = np.argmax(test_labels, axis=1)\n",
        "\n",
        "print(confusion_matrix(test_labels, test_pred))"
      ],
      "metadata": {
        "colab": {
          "base_uri": "https://localhost:8080/"
        },
        "id": "V5olBZ5lLsAh",
        "outputId": "affc63a6-a903-4c52-e5e1-b5952bdb983f"
      },
      "id": "V5olBZ5lLsAh",
      "execution_count": null,
      "outputs": [
        {
          "output_type": "stream",
          "name": "stdout",
          "text": [
            "56/56 [==============================] - 1s 10ms/step\n",
            "[[ 40   1  14  15   1   0   0  30   6   0]\n",
            " [  4  75  19  22   2   7   0  35   2   1]\n",
            " [  4   1 252   2   0   0   0   2   0   0]\n",
            " [  3   1  26 177   0   0   2   4   0   0]\n",
            " [  6   1   0  15  11   0   0   2   0   1]\n",
            " [ 18   3   6   7   0  29   6 142   2   1]\n",
            " [ 34   0  25   5   0   1  35  69   3   0]\n",
            " [ 79   2  14   9   2   2   9 154   5   0]\n",
            " [ 11   0   0   0   0   0   0   1 134   1]\n",
            " [  0   9   0  13  28   1   0  11  28  91]]\n"
          ]
        }
      ]
    },
    {
      "cell_type": "code",
      "source": [
        "from sklearn.metrics import accuracy_score\n",
        "print(accuracy_score(test_labels, test_pred))"
      ],
      "metadata": {
        "colab": {
          "base_uri": "https://localhost:8080/"
        },
        "id": "vv4AxN_7Uvwd",
        "outputId": "070ab8cc-4869-4365-bc8b-b91f27b6372f"
      },
      "id": "vv4AxN_7Uvwd",
      "execution_count": null,
      "outputs": [
        {
          "output_type": "stream",
          "name": "stdout",
          "text": [
            "0.5625704622322435\n"
          ]
        }
      ]
    },
    {
      "cell_type": "code",
      "source": [
        "from sklearn.metrics import precision_score\n",
        "print(precision_score(test_labels, test_pred, average='macro'))\n",
        "print(precision_score(test_labels, test_pred, average='micro'))\n",
        "print(precision_score(test_labels, test_pred, average='weighted'))\n",
        "print(precision_score(test_labels, test_pred, average=None))"
      ],
      "metadata": {
        "colab": {
          "base_uri": "https://localhost:8080/"
        },
        "id": "aJVHrcx5VnhN",
        "outputId": "b0ef5344-6c2b-4f6b-c4aa-f6f4184665f3"
      },
      "id": "aJVHrcx5VnhN",
      "execution_count": null,
      "outputs": [
        {
          "output_type": "stream",
          "name": "stdout",
          "text": [
            "0.6075884661455762\n",
            "0.5625704622322435\n",
            "0.6428357020093942\n",
            "[0.20100503 0.80645161 0.70786517 0.66792453 0.25       0.725\n",
            " 0.67307692 0.34222222 0.74444444 0.95789474]\n"
          ]
        }
      ]
    },
    {
      "cell_type": "code",
      "source": [
        "from sklearn.metrics import recall_score\n",
        "\n",
        "print(recall_score(test_labels, test_pred, average='macro'))\n",
        "print(recall_score(test_labels, test_pred, average='micro'))\n",
        "print(recall_score(test_labels, test_pred, average='weighted'))\n",
        "print(recall_score(test_labels, test_pred, average=None))"
      ],
      "metadata": {
        "colab": {
          "base_uri": "https://localhost:8080/"
        },
        "id": "dN3igrXLWItI",
        "outputId": "8196f96c-5834-4934-8620-b5eb017a27bf"
      },
      "id": "dN3igrXLWItI",
      "execution_count": null,
      "outputs": [
        {
          "output_type": "stream",
          "name": "stdout",
          "text": [
            "0.5236292746602876\n",
            "0.5625704622322435\n",
            "0.5625704622322435\n",
            "[0.37383178 0.4491018  0.96551724 0.83098592 0.30555556 0.13551402\n",
            " 0.20348837 0.55797101 0.91156463 0.50276243]\n"
          ]
        }
      ]
    },
    {
      "cell_type": "code",
      "source": [
        "from sklearn.metrics import f1_score\n",
        "\n",
        "print(f1_score(test_labels, test_pred, average='macro'))\n",
        "print(f1_score(test_labels, test_pred, average='micro'))\n",
        "print(f1_score(test_labels, test_pred, average='weighted'))\n",
        "print(f1_score(test_labels, test_pred, average=None))"
      ],
      "metadata": {
        "colab": {
          "base_uri": "https://localhost:8080/"
        },
        "id": "98Pegk-mWb4R",
        "outputId": "40d445ca-feb2-426d-87da-6f24347d3819"
      },
      "id": "98Pegk-mWb4R",
      "execution_count": null,
      "outputs": [
        {
          "output_type": "stream",
          "name": "stdout",
          "text": [
            "0.5114883549358898\n",
            "0.5625704622322435\n",
            "0.5438011945539505\n",
            "[0.26143791 0.57692308 0.81685575 0.74058577 0.275      0.22834646\n",
            " 0.3125     0.42424242 0.81957187 0.65942029]\n"
          ]
        }
      ]
    }
  ],
  "metadata": {
    "accelerator": "GPU",
    "colab": {
      "machine_shape": "hm",
      "provenance": [],
      "gpuType": "T4"
    },
    "kernelspec": {
      "display_name": "Python 3",
      "name": "python3"
    },
    "language_info": {
      "codemirror_mode": {
        "name": "ipython",
        "version": 3
      },
      "file_extension": ".py",
      "mimetype": "text/x-python",
      "name": "python",
      "nbconvert_exporter": "python",
      "pygments_lexer": "ipython3",
      "version": "3.10.12"
    }
  },
  "nbformat": 4,
  "nbformat_minor": 5
}