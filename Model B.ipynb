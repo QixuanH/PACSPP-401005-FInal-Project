{
  "nbformat": 4,
  "nbformat_minor": 0,
  "metadata": {
    "colab": {
      "provenance": [],
      "machine_shape": "hm",
      "gpuType": "A100"
    },
    "kernelspec": {
      "name": "python3",
      "display_name": "Python 3"
    },
    "language_info": {
      "name": "python"
    },
    "accelerator": "GPU"
  },
  "cells": [
    {
      "cell_type": "code",
      "source": [
        "!git clone --depth=1 https://github.com/henrysky/astroNN\n",
        "!pip install ./astroNN\n",
        "!pip install --upgrade tensorflow-probability"
      ],
      "metadata": {
        "colab": {
          "base_uri": "https://localhost:8080/"
        },
        "id": "M3PZ6Gr1xjlJ",
        "outputId": "cee44a0e-0223-4403-fcd8-04a21fdd363c"
      },
      "execution_count": null,
      "outputs": [
        {
          "output_type": "stream",
          "name": "stdout",
          "text": [
            "Cloning into 'astroNN'...\n",
            "remote: Enumerating objects: 221, done.\u001b[K\n",
            "remote: Counting objects: 100% (221/221), done.\u001b[K\n",
            "remote: Compressing objects: 100% (208/208), done.\u001b[K\n",
            "remote: Total 221 (delta 8), reused 159 (delta 5), pack-reused 0\u001b[K\n",
            "Receiving objects: 100% (221/221), 53.52 MiB | 15.41 MiB/s, done.\n",
            "Resolving deltas: 100% (8/8), done.\n",
            "Processing ./astroNN\n",
            "  Preparing metadata (setup.py) ... \u001b[?25l\u001b[?25hdone\n",
            "Requirement already satisfied: numpy in /usr/local/lib/python3.10/dist-packages (from astroNN==1.2.dev0) (1.23.5)\n",
            "Requirement already satisfied: astropy in /usr/local/lib/python3.10/dist-packages (from astroNN==1.2.dev0) (5.3.4)\n",
            "Requirement already satisfied: h5py in /usr/local/lib/python3.10/dist-packages (from astroNN==1.2.dev0) (3.9.0)\n",
            "Requirement already satisfied: matplotlib in /usr/local/lib/python3.10/dist-packages (from astroNN==1.2.dev0) (3.7.1)\n",
            "Collecting astroquery (from astroNN==1.2.dev0)\n",
            "  Downloading astroquery-0.4.6-py3-none-any.whl (4.5 MB)\n",
            "\u001b[2K     \u001b[90m━━━━━━━━━━━━━━━━━━━━━━━━━━━━━━━━━━━━━━━━\u001b[0m \u001b[32m4.5/4.5 MB\u001b[0m \u001b[31m38.5 MB/s\u001b[0m eta \u001b[36m0:00:00\u001b[0m\n",
            "\u001b[?25hRequirement already satisfied: pandas in /usr/local/lib/python3.10/dist-packages (from astroNN==1.2.dev0) (1.5.3)\n",
            "Requirement already satisfied: scikit-learn in /usr/local/lib/python3.10/dist-packages (from astroNN==1.2.dev0) (1.2.2)\n",
            "Requirement already satisfied: tqdm in /usr/local/lib/python3.10/dist-packages (from astroNN==1.2.dev0) (4.66.1)\n",
            "Requirement already satisfied: packaging in /usr/local/lib/python3.10/dist-packages (from astroNN==1.2.dev0) (23.2)\n",
            "Requirement already satisfied: tensorflow>=2.13.0 in /usr/local/lib/python3.10/dist-packages (from astroNN==1.2.dev0) (2.13.0)\n",
            "Collecting tensorflow_probability>=0.21.0 (from astroNN==1.2.dev0)\n",
            "  Downloading tensorflow_probability-0.22.0-py2.py3-none-any.whl (6.9 MB)\n",
            "\u001b[2K     \u001b[90m━━━━━━━━━━━━━━━━━━━━━━━━━━━━━━━━━━━━━━━━\u001b[0m \u001b[32m6.9/6.9 MB\u001b[0m \u001b[31m67.0 MB/s\u001b[0m eta \u001b[36m0:00:00\u001b[0m\n",
            "\u001b[?25hRequirement already satisfied: absl-py>=1.0.0 in /usr/local/lib/python3.10/dist-packages (from tensorflow>=2.13.0->astroNN==1.2.dev0) (1.4.0)\n",
            "Requirement already satisfied: astunparse>=1.6.0 in /usr/local/lib/python3.10/dist-packages (from tensorflow>=2.13.0->astroNN==1.2.dev0) (1.6.3)\n",
            "Requirement already satisfied: flatbuffers>=23.1.21 in /usr/local/lib/python3.10/dist-packages (from tensorflow>=2.13.0->astroNN==1.2.dev0) (23.5.26)\n",
            "Requirement already satisfied: gast<=0.4.0,>=0.2.1 in /usr/local/lib/python3.10/dist-packages (from tensorflow>=2.13.0->astroNN==1.2.dev0) (0.4.0)\n",
            "Requirement already satisfied: google-pasta>=0.1.1 in /usr/local/lib/python3.10/dist-packages (from tensorflow>=2.13.0->astroNN==1.2.dev0) (0.2.0)\n",
            "Requirement already satisfied: grpcio<2.0,>=1.24.3 in /usr/local/lib/python3.10/dist-packages (from tensorflow>=2.13.0->astroNN==1.2.dev0) (1.59.0)\n",
            "Requirement already satisfied: keras<2.14,>=2.13.1 in /usr/local/lib/python3.10/dist-packages (from tensorflow>=2.13.0->astroNN==1.2.dev0) (2.13.1)\n",
            "Requirement already satisfied: libclang>=13.0.0 in /usr/local/lib/python3.10/dist-packages (from tensorflow>=2.13.0->astroNN==1.2.dev0) (16.0.6)\n",
            "Requirement already satisfied: opt-einsum>=2.3.2 in /usr/local/lib/python3.10/dist-packages (from tensorflow>=2.13.0->astroNN==1.2.dev0) (3.3.0)\n",
            "Requirement already satisfied: protobuf!=4.21.0,!=4.21.1,!=4.21.2,!=4.21.3,!=4.21.4,!=4.21.5,<5.0.0dev,>=3.20.3 in /usr/local/lib/python3.10/dist-packages (from tensorflow>=2.13.0->astroNN==1.2.dev0) (3.20.3)\n",
            "Requirement already satisfied: setuptools in /usr/local/lib/python3.10/dist-packages (from tensorflow>=2.13.0->astroNN==1.2.dev0) (67.7.2)\n",
            "Requirement already satisfied: six>=1.12.0 in /usr/local/lib/python3.10/dist-packages (from tensorflow>=2.13.0->astroNN==1.2.dev0) (1.16.0)\n",
            "Requirement already satisfied: tensorboard<2.14,>=2.13 in /usr/local/lib/python3.10/dist-packages (from tensorflow>=2.13.0->astroNN==1.2.dev0) (2.13.0)\n",
            "Requirement already satisfied: tensorflow-estimator<2.14,>=2.13.0 in /usr/local/lib/python3.10/dist-packages (from tensorflow>=2.13.0->astroNN==1.2.dev0) (2.13.0)\n",
            "Requirement already satisfied: termcolor>=1.1.0 in /usr/local/lib/python3.10/dist-packages (from tensorflow>=2.13.0->astroNN==1.2.dev0) (2.3.0)\n",
            "Requirement already satisfied: typing-extensions<4.6.0,>=3.6.6 in /usr/local/lib/python3.10/dist-packages (from tensorflow>=2.13.0->astroNN==1.2.dev0) (4.5.0)\n",
            "Requirement already satisfied: wrapt>=1.11.0 in /usr/local/lib/python3.10/dist-packages (from tensorflow>=2.13.0->astroNN==1.2.dev0) (1.15.0)\n",
            "Requirement already satisfied: tensorflow-io-gcs-filesystem>=0.23.1 in /usr/local/lib/python3.10/dist-packages (from tensorflow>=2.13.0->astroNN==1.2.dev0) (0.34.0)\n",
            "Requirement already satisfied: decorator in /usr/local/lib/python3.10/dist-packages (from tensorflow_probability>=0.21.0->astroNN==1.2.dev0) (4.4.2)\n",
            "Requirement already satisfied: cloudpickle>=1.3 in /usr/local/lib/python3.10/dist-packages (from tensorflow_probability>=0.21.0->astroNN==1.2.dev0) (2.2.1)\n",
            "Requirement already satisfied: dm-tree in /usr/local/lib/python3.10/dist-packages (from tensorflow_probability>=0.21.0->astroNN==1.2.dev0) (0.1.8)\n",
            "Requirement already satisfied: pyerfa>=2.0 in /usr/local/lib/python3.10/dist-packages (from astropy->astroNN==1.2.dev0) (2.0.0.3)\n",
            "Requirement already satisfied: PyYAML>=3.13 in /usr/local/lib/python3.10/dist-packages (from astropy->astroNN==1.2.dev0) (6.0.1)\n",
            "Requirement already satisfied: requests>=2.4.3 in /usr/local/lib/python3.10/dist-packages (from astroquery->astroNN==1.2.dev0) (2.31.0)\n",
            "Requirement already satisfied: beautifulsoup4>=4.3.2 in /usr/local/lib/python3.10/dist-packages (from astroquery->astroNN==1.2.dev0) (4.11.2)\n",
            "Requirement already satisfied: html5lib>=0.999 in /usr/local/lib/python3.10/dist-packages (from astroquery->astroNN==1.2.dev0) (1.1)\n",
            "Requirement already satisfied: keyring>=4.0 in /usr/lib/python3/dist-packages (from astroquery->astroNN==1.2.dev0) (23.5.0)\n",
            "Collecting pyvo>=1.1 (from astroquery->astroNN==1.2.dev0)\n",
            "  Downloading pyvo-1.4.2-py3-none-any.whl (888 kB)\n",
            "\u001b[2K     \u001b[90m━━━━━━━━━━━━━━━━━━━━━━━━━━━━━━━━━━━━━━\u001b[0m \u001b[32m888.9/888.9 kB\u001b[0m \u001b[31m60.8 MB/s\u001b[0m eta \u001b[36m0:00:00\u001b[0m\n",
            "\u001b[?25hRequirement already satisfied: contourpy>=1.0.1 in /usr/local/lib/python3.10/dist-packages (from matplotlib->astroNN==1.2.dev0) (1.1.1)\n",
            "Requirement already satisfied: cycler>=0.10 in /usr/local/lib/python3.10/dist-packages (from matplotlib->astroNN==1.2.dev0) (0.12.1)\n",
            "Requirement already satisfied: fonttools>=4.22.0 in /usr/local/lib/python3.10/dist-packages (from matplotlib->astroNN==1.2.dev0) (4.43.1)\n",
            "Requirement already satisfied: kiwisolver>=1.0.1 in /usr/local/lib/python3.10/dist-packages (from matplotlib->astroNN==1.2.dev0) (1.4.5)\n",
            "Requirement already satisfied: pillow>=6.2.0 in /usr/local/lib/python3.10/dist-packages (from matplotlib->astroNN==1.2.dev0) (9.4.0)\n",
            "Requirement already satisfied: pyparsing>=2.3.1 in /usr/local/lib/python3.10/dist-packages (from matplotlib->astroNN==1.2.dev0) (3.1.1)\n",
            "Requirement already satisfied: python-dateutil>=2.7 in /usr/local/lib/python3.10/dist-packages (from matplotlib->astroNN==1.2.dev0) (2.8.2)\n",
            "Requirement already satisfied: pytz>=2020.1 in /usr/local/lib/python3.10/dist-packages (from pandas->astroNN==1.2.dev0) (2023.3.post1)\n",
            "Requirement already satisfied: scipy>=1.3.2 in /usr/local/lib/python3.10/dist-packages (from scikit-learn->astroNN==1.2.dev0) (1.11.3)\n",
            "Requirement already satisfied: joblib>=1.1.1 in /usr/local/lib/python3.10/dist-packages (from scikit-learn->astroNN==1.2.dev0) (1.3.2)\n",
            "Requirement already satisfied: threadpoolctl>=2.0.0 in /usr/local/lib/python3.10/dist-packages (from scikit-learn->astroNN==1.2.dev0) (3.2.0)\n",
            "Requirement already satisfied: wheel<1.0,>=0.23.0 in /usr/local/lib/python3.10/dist-packages (from astunparse>=1.6.0->tensorflow>=2.13.0->astroNN==1.2.dev0) (0.41.2)\n",
            "Requirement already satisfied: soupsieve>1.2 in /usr/local/lib/python3.10/dist-packages (from beautifulsoup4>=4.3.2->astroquery->astroNN==1.2.dev0) (2.5)\n",
            "Requirement already satisfied: webencodings in /usr/local/lib/python3.10/dist-packages (from html5lib>=0.999->astroquery->astroNN==1.2.dev0) (0.5.1)\n",
            "Requirement already satisfied: charset-normalizer<4,>=2 in /usr/local/lib/python3.10/dist-packages (from requests>=2.4.3->astroquery->astroNN==1.2.dev0) (3.3.0)\n",
            "Requirement already satisfied: idna<4,>=2.5 in /usr/local/lib/python3.10/dist-packages (from requests>=2.4.3->astroquery->astroNN==1.2.dev0) (3.4)\n",
            "Requirement already satisfied: urllib3<3,>=1.21.1 in /usr/local/lib/python3.10/dist-packages (from requests>=2.4.3->astroquery->astroNN==1.2.dev0) (2.0.6)\n",
            "Requirement already satisfied: certifi>=2017.4.17 in /usr/local/lib/python3.10/dist-packages (from requests>=2.4.3->astroquery->astroNN==1.2.dev0) (2023.7.22)\n",
            "Requirement already satisfied: google-auth<3,>=1.6.3 in /usr/local/lib/python3.10/dist-packages (from tensorboard<2.14,>=2.13->tensorflow>=2.13.0->astroNN==1.2.dev0) (2.17.3)\n",
            "Requirement already satisfied: google-auth-oauthlib<1.1,>=0.5 in /usr/local/lib/python3.10/dist-packages (from tensorboard<2.14,>=2.13->tensorflow>=2.13.0->astroNN==1.2.dev0) (1.0.0)\n",
            "Requirement already satisfied: markdown>=2.6.8 in /usr/local/lib/python3.10/dist-packages (from tensorboard<2.14,>=2.13->tensorflow>=2.13.0->astroNN==1.2.dev0) (3.5)\n",
            "Requirement already satisfied: tensorboard-data-server<0.8.0,>=0.7.0 in /usr/local/lib/python3.10/dist-packages (from tensorboard<2.14,>=2.13->tensorflow>=2.13.0->astroNN==1.2.dev0) (0.7.1)\n",
            "Requirement already satisfied: werkzeug>=1.0.1 in /usr/local/lib/python3.10/dist-packages (from tensorboard<2.14,>=2.13->tensorflow>=2.13.0->astroNN==1.2.dev0) (3.0.0)\n",
            "Requirement already satisfied: cachetools<6.0,>=2.0.0 in /usr/local/lib/python3.10/dist-packages (from google-auth<3,>=1.6.3->tensorboard<2.14,>=2.13->tensorflow>=2.13.0->astroNN==1.2.dev0) (5.3.1)\n",
            "Requirement already satisfied: pyasn1-modules>=0.2.1 in /usr/local/lib/python3.10/dist-packages (from google-auth<3,>=1.6.3->tensorboard<2.14,>=2.13->tensorflow>=2.13.0->astroNN==1.2.dev0) (0.3.0)\n",
            "Requirement already satisfied: rsa<5,>=3.1.4 in /usr/local/lib/python3.10/dist-packages (from google-auth<3,>=1.6.3->tensorboard<2.14,>=2.13->tensorflow>=2.13.0->astroNN==1.2.dev0) (4.9)\n",
            "Requirement already satisfied: requests-oauthlib>=0.7.0 in /usr/local/lib/python3.10/dist-packages (from google-auth-oauthlib<1.1,>=0.5->tensorboard<2.14,>=2.13->tensorflow>=2.13.0->astroNN==1.2.dev0) (1.3.1)\n",
            "Requirement already satisfied: MarkupSafe>=2.1.1 in /usr/local/lib/python3.10/dist-packages (from werkzeug>=1.0.1->tensorboard<2.14,>=2.13->tensorflow>=2.13.0->astroNN==1.2.dev0) (2.1.3)\n",
            "Requirement already satisfied: pyasn1<0.6.0,>=0.4.6 in /usr/local/lib/python3.10/dist-packages (from pyasn1-modules>=0.2.1->google-auth<3,>=1.6.3->tensorboard<2.14,>=2.13->tensorflow>=2.13.0->astroNN==1.2.dev0) (0.5.0)\n",
            "Requirement already satisfied: oauthlib>=3.0.0 in /usr/local/lib/python3.10/dist-packages (from requests-oauthlib>=0.7.0->google-auth-oauthlib<1.1,>=0.5->tensorboard<2.14,>=2.13->tensorflow>=2.13.0->astroNN==1.2.dev0) (3.2.2)\n",
            "Building wheels for collected packages: astroNN\n",
            "  Building wheel for astroNN (setup.py) ... \u001b[?25l\u001b[?25hdone\n",
            "  Created wheel for astroNN: filename=astroNN-1.2.dev0-py3-none-any.whl size=9336482 sha256=aa18fcaa3581b82b4d146c3016ebecec47a0cddc0bc4c61d816c9cbe74b163ed\n",
            "  Stored in directory: /tmp/pip-ephem-wheel-cache-2huko384/wheels/5a/67/c7/25e6092601f5d8f92abae18cb07ad36c8e7bcd89b30535f0a4\n",
            "Successfully built astroNN\n",
            "Installing collected packages: tensorflow_probability, pyvo, astroquery, astroNN\n",
            "  Attempting uninstall: tensorflow_probability\n",
            "    Found existing installation: tensorflow-probability 0.20.1\n",
            "    Uninstalling tensorflow-probability-0.20.1:\n",
            "      Successfully uninstalled tensorflow-probability-0.20.1\n",
            "Successfully installed astroNN-1.2.dev0 astroquery-0.4.6 pyvo-1.4.2 tensorflow_probability-0.22.0\n",
            "Requirement already satisfied: tensorflow-probability in /usr/local/lib/python3.10/dist-packages (0.22.0)\n",
            "Requirement already satisfied: absl-py in /usr/local/lib/python3.10/dist-packages (from tensorflow-probability) (1.4.0)\n",
            "Requirement already satisfied: six>=1.10.0 in /usr/local/lib/python3.10/dist-packages (from tensorflow-probability) (1.16.0)\n",
            "Requirement already satisfied: numpy>=1.13.3 in /usr/local/lib/python3.10/dist-packages (from tensorflow-probability) (1.23.5)\n",
            "Requirement already satisfied: decorator in /usr/local/lib/python3.10/dist-packages (from tensorflow-probability) (4.4.2)\n",
            "Requirement already satisfied: cloudpickle>=1.3 in /usr/local/lib/python3.10/dist-packages (from tensorflow-probability) (2.2.1)\n",
            "Requirement already satisfied: gast>=0.3.2 in /usr/local/lib/python3.10/dist-packages (from tensorflow-probability) (0.4.0)\n",
            "Requirement already satisfied: dm-tree in /usr/local/lib/python3.10/dist-packages (from tensorflow-probability) (0.1.8)\n",
            "Requirement already satisfied: typing-extensions<4.6.0 in /usr/local/lib/python3.10/dist-packages (from tensorflow-probability) (4.5.0)\n"
          ]
        }
      ]
    },
    {
      "cell_type": "code",
      "execution_count": null,
      "metadata": {
        "colab": {
          "base_uri": "https://localhost:8080/"
        },
        "id": "h7kO0CmPwTZn",
        "outputId": "2a565d58-389c-4a73-84fb-4a4836e19e29"
      },
      "outputs": [
        {
          "output_type": "stream",
          "name": "stderr",
          "text": [
            "Galaxy10_DECals.h5: 100%|█████████▉| 2.73G/2.74G [02:43<00:00, 17.1MB/s]"
          ]
        },
        {
          "output_type": "stream",
          "name": "stdout",
          "text": [
            "Downloaded Galaxy10 successfully to /root/.astroNN/datasets/Galaxy10_DECals.h5\n"
          ]
        },
        {
          "output_type": "stream",
          "name": "stderr",
          "text": [
            "\rGalaxy10_DECals.h5: 2.74GB [02:51, 15.9MB/s]                            \n"
          ]
        }
      ],
      "source": [
        "from astroNN.datasets import load_galaxy10\n",
        "from tensorflow import keras\n",
        "from keras import utils\n",
        "import numpy as np\n",
        "\n",
        "# To load images and labels (will download automatically at the first time)\n",
        "# First time downloading location will be ~/.astroNN/datasets/\n",
        "images, labels = load_galaxy10()\n",
        "\n",
        "# To convert the labels to categorical 10 classes\n",
        "labels = utils.to_categorical(labels, 10)\n",
        "\n",
        "# To convert to desirable type\n",
        "labels = labels.astype(np.float32)\n",
        "images = images.astype(np.float32)"
      ]
    },
    {
      "cell_type": "code",
      "source": [
        "\n",
        "from sklearn.model_selection import train_test_split\n",
        "\n",
        "# split data into training set and the other set\n",
        "train_idx, other_idx = train_test_split(np.arange(labels.shape[0]), test_size=0.2)  # training set takes 80%\n",
        "# split the other set into validation and testing sets\n",
        "valid_idx, test_idx = train_test_split(other_idx, test_size=0.5)  # validation and testing set both take 10%\n",
        "\n",
        "# get data by indexing\n",
        "train_images, train_labels = images[train_idx], labels[train_idx]\n",
        "valid_images, valid_labels = images[valid_idx], labels[valid_idx]\n",
        "test_images, test_labels = images[test_idx], labels[test_idx]"
      ],
      "metadata": {
        "id": "ULhLYDnL5nUL"
      },
      "execution_count": null,
      "outputs": []
    },
    {
      "cell_type": "code",
      "source": [
        "# delete images and labels to release RAM\n",
        "del images, labels"
      ],
      "metadata": {
        "id": "yPketSBN43l9"
      },
      "execution_count": null,
      "outputs": []
    },
    {
      "cell_type": "code",
      "source": [
        "from keras.models import Sequential\n",
        "from keras.layers import Conv2D, MaxPooling2D, Flatten, Dense, Dropout\n",
        "from keras.regularizers import l2\n",
        "from keras.preprocessing.image import ImageDataGenerator\n",
        "from keras.callbacks import EarlyStopping, ReduceLROnPlateau\n",
        "\n",
        "model = Sequential()\n",
        "# first conv layer\n",
        "model.add(Conv2D(16, (3, 3), activation='relu', kernel_regularizer=l2(0.01), input_shape=(256, 256, 3)))\n",
        "model.add(MaxPooling2D(pool_size=(2, 2)))\n",
        "# second conv layer\n",
        "model.add(Conv2D(32, (3, 3), activation='relu', kernel_regularizer=l2(0.01)))\n",
        "model.add(MaxPooling2D(pool_size=(2, 2)))\n",
        "# third conv layer\n",
        "model.add(Conv2D(32, (3, 3), activation='relu', kernel_regularizer=l2(0.01)))\n",
        "model.add(MaxPooling2D(pool_size=(2, 2)))\n",
        "# flatten layer\n",
        "model.add(Flatten())\n",
        "# Dropout layer to avoid overfitting\n",
        "model.add(Dropout(0.5))\n",
        "# dense layer, where output is 10 types\n",
        "model.add(Dense(10, activation='softmax', kernel_regularizer=l2(0.01)))\n",
        "model.summary()"
      ],
      "metadata": {
        "colab": {
          "base_uri": "https://localhost:8080/"
        },
        "id": "zQAU46-B9ZfM",
        "outputId": "85013e88-b09d-436a-cbd6-11c7dfb88513"
      },
      "execution_count": null,
      "outputs": [
        {
          "output_type": "stream",
          "name": "stdout",
          "text": [
            "Model: \"sequential\"\n",
            "_________________________________________________________________\n",
            " Layer (type)                Output Shape              Param #   \n",
            "=================================================================\n",
            " conv2d (Conv2D)             (None, 254, 254, 16)      448       \n",
            "                                                                 \n",
            " max_pooling2d (MaxPooling2  (None, 127, 127, 16)      0         \n",
            " D)                                                              \n",
            "                                                                 \n",
            " conv2d_1 (Conv2D)           (None, 125, 125, 32)      4640      \n",
            "                                                                 \n",
            " max_pooling2d_1 (MaxPoolin  (None, 62, 62, 32)        0         \n",
            " g2D)                                                            \n",
            "                                                                 \n",
            " conv2d_2 (Conv2D)           (None, 60, 60, 32)        9248      \n",
            "                                                                 \n",
            " max_pooling2d_2 (MaxPoolin  (None, 30, 30, 32)        0         \n",
            " g2D)                                                            \n",
            "                                                                 \n",
            " flatten (Flatten)           (None, 28800)             0         \n",
            "                                                                 \n",
            " dropout (Dropout)           (None, 28800)             0         \n",
            "                                                                 \n",
            " dense (Dense)               (None, 10)                288010    \n",
            "                                                                 \n",
            "=================================================================\n",
            "Total params: 302346 (1.15 MB)\n",
            "Trainable params: 302346 (1.15 MB)\n",
            "Non-trainable params: 0 (0.00 Byte)\n",
            "_________________________________________________________________\n"
          ]
        }
      ]
    },
    {
      "cell_type": "code",
      "source": [
        "from keras.optimizers import Adam\n",
        "# compile the model\n",
        "model.compile(loss='categorical_crossentropy', optimizer='adam', metrics=['accuracy'])\n",
        "optimizer = Adam(learning_rate=0.005)\n",
        "\n",
        "# learning rate adjustment and early stopping\n",
        "reduce_lr = ReduceLROnPlateau(monitor='val_loss', factor=0.1, patience=10, min_lr=0.001)\n",
        "early_stopping = EarlyStopping(monitor='val_loss', patience=20)\n",
        "\n",
        "# train the model\n",
        "history = model.fit(train_images, train_labels, validation_data=(valid_images, valid_labels), epochs=50, batch_size=32, callbacks=[reduce_lr, early_stopping])"
      ],
      "metadata": {
        "colab": {
          "base_uri": "https://localhost:8080/"
        },
        "id": "c1UqCjd-MHog",
        "outputId": "6423075e-7705-4ffa-9841-052de43c18a5"
      },
      "execution_count": null,
      "outputs": [
        {
          "output_type": "stream",
          "name": "stdout",
          "text": [
            "Epoch 1/50\n",
            "444/444 [==============================] - 20s 19ms/step - loss: 3.9287 - accuracy: 0.2970 - val_loss: 2.2454 - val_accuracy: 0.3501 - lr: 0.0010\n",
            "Epoch 2/50\n",
            "444/444 [==============================] - 6s 14ms/step - loss: 2.2699 - accuracy: 0.3547 - val_loss: 2.1095 - val_accuracy: 0.3946 - lr: 0.0010\n",
            "Epoch 3/50\n",
            "444/444 [==============================] - 6s 14ms/step - loss: 2.0614 - accuracy: 0.4086 - val_loss: 1.9282 - val_accuracy: 0.4521 - lr: 0.0010\n",
            "Epoch 4/50\n",
            "444/444 [==============================] - 6s 14ms/step - loss: 1.9663 - accuracy: 0.4380 - val_loss: 2.1373 - val_accuracy: 0.3658 - lr: 0.0010\n",
            "Epoch 5/50\n",
            "444/444 [==============================] - 6s 14ms/step - loss: 1.9095 - accuracy: 0.4602 - val_loss: 1.8912 - val_accuracy: 0.4611 - lr: 0.0010\n",
            "Epoch 6/50\n",
            "444/444 [==============================] - 6s 14ms/step - loss: 1.8136 - accuracy: 0.4906 - val_loss: 1.8299 - val_accuracy: 0.4763 - lr: 0.0010\n",
            "Epoch 7/50\n",
            "444/444 [==============================] - 6s 14ms/step - loss: 1.7756 - accuracy: 0.4961 - val_loss: 1.8220 - val_accuracy: 0.4820 - lr: 0.0010\n",
            "Epoch 8/50\n",
            "444/444 [==============================] - 6s 14ms/step - loss: 1.7521 - accuracy: 0.5237 - val_loss: 1.7965 - val_accuracy: 0.5073 - lr: 0.0010\n",
            "Epoch 9/50\n",
            "444/444 [==============================] - 6s 14ms/step - loss: 1.7296 - accuracy: 0.5261 - val_loss: 1.7881 - val_accuracy: 0.5135 - lr: 0.0010\n",
            "Epoch 10/50\n",
            "444/444 [==============================] - 6s 14ms/step - loss: 1.7156 - accuracy: 0.5446 - val_loss: 1.7885 - val_accuracy: 0.5062 - lr: 0.0010\n",
            "Epoch 11/50\n",
            "444/444 [==============================] - 6s 14ms/step - loss: 1.6950 - accuracy: 0.5556 - val_loss: 1.8489 - val_accuracy: 0.5017 - lr: 0.0010\n",
            "Epoch 12/50\n",
            "444/444 [==============================] - 6s 14ms/step - loss: 1.6935 - accuracy: 0.5763 - val_loss: 1.8316 - val_accuracy: 0.5282 - lr: 0.0010\n",
            "Epoch 13/50\n",
            "444/444 [==============================] - 6s 14ms/step - loss: 1.6716 - accuracy: 0.5964 - val_loss: 1.8402 - val_accuracy: 0.5265 - lr: 0.0010\n",
            "Epoch 14/50\n",
            "444/444 [==============================] - 6s 14ms/step - loss: 1.6627 - accuracy: 0.5995 - val_loss: 1.8424 - val_accuracy: 0.5490 - lr: 0.0010\n",
            "Epoch 15/50\n",
            "444/444 [==============================] - 6s 14ms/step - loss: 1.6556 - accuracy: 0.6101 - val_loss: 1.8291 - val_accuracy: 0.5304 - lr: 0.0010\n",
            "Epoch 16/50\n",
            "444/444 [==============================] - 6s 14ms/step - loss: 1.6365 - accuracy: 0.6159 - val_loss: 1.8933 - val_accuracy: 0.5180 - lr: 0.0010\n",
            "Epoch 17/50\n",
            "444/444 [==============================] - 6s 14ms/step - loss: 1.6242 - accuracy: 0.6230 - val_loss: 1.8458 - val_accuracy: 0.5468 - lr: 0.0010\n",
            "Epoch 18/50\n",
            "444/444 [==============================] - 6s 14ms/step - loss: 1.6323 - accuracy: 0.6255 - val_loss: 1.8212 - val_accuracy: 0.5727 - lr: 0.0010\n",
            "Epoch 19/50\n",
            "444/444 [==============================] - 6s 14ms/step - loss: 1.6234 - accuracy: 0.6329 - val_loss: 1.8074 - val_accuracy: 0.5507 - lr: 0.0010\n",
            "Epoch 20/50\n",
            "444/444 [==============================] - 6s 14ms/step - loss: 1.6010 - accuracy: 0.6403 - val_loss: 1.7767 - val_accuracy: 0.5699 - lr: 0.0010\n",
            "Epoch 21/50\n",
            "444/444 [==============================] - 6s 14ms/step - loss: 1.5830 - accuracy: 0.6431 - val_loss: 1.7876 - val_accuracy: 0.5643 - lr: 0.0010\n",
            "Epoch 22/50\n",
            "444/444 [==============================] - 6s 13ms/step - loss: 1.5774 - accuracy: 0.6487 - val_loss: 1.8866 - val_accuracy: 0.5349 - lr: 0.0010\n",
            "Epoch 23/50\n",
            "444/444 [==============================] - 6s 14ms/step - loss: 1.5547 - accuracy: 0.6555 - val_loss: 1.8090 - val_accuracy: 0.5710 - lr: 0.0010\n",
            "Epoch 24/50\n",
            "444/444 [==============================] - 6s 14ms/step - loss: 1.5443 - accuracy: 0.6675 - val_loss: 1.7791 - val_accuracy: 0.5727 - lr: 0.0010\n",
            "Epoch 25/50\n",
            "444/444 [==============================] - 6s 14ms/step - loss: 1.5493 - accuracy: 0.6594 - val_loss: 1.7508 - val_accuracy: 0.5896 - lr: 0.0010\n",
            "Epoch 26/50\n",
            "444/444 [==============================] - 6s 14ms/step - loss: 1.5159 - accuracy: 0.6757 - val_loss: 1.7597 - val_accuracy: 0.5857 - lr: 0.0010\n",
            "Epoch 27/50\n",
            "444/444 [==============================] - 6s 14ms/step - loss: 1.5404 - accuracy: 0.6670 - val_loss: 1.8041 - val_accuracy: 0.5789 - lr: 0.0010\n",
            "Epoch 28/50\n",
            "444/444 [==============================] - 6s 14ms/step - loss: 1.5088 - accuracy: 0.6752 - val_loss: 1.7719 - val_accuracy: 0.6037 - lr: 0.0010\n",
            "Epoch 29/50\n",
            "444/444 [==============================] - 6s 14ms/step - loss: 1.5065 - accuracy: 0.6817 - val_loss: 1.7734 - val_accuracy: 0.6015 - lr: 0.0010\n",
            "Epoch 30/50\n",
            "444/444 [==============================] - 6s 14ms/step - loss: 1.5231 - accuracy: 0.6756 - val_loss: 1.8148 - val_accuracy: 0.5834 - lr: 0.0010\n",
            "Epoch 31/50\n",
            "444/444 [==============================] - 6s 14ms/step - loss: 1.5199 - accuracy: 0.6737 - val_loss: 1.7961 - val_accuracy: 0.5857 - lr: 0.0010\n",
            "Epoch 32/50\n",
            "444/444 [==============================] - 6s 14ms/step - loss: 1.4959 - accuracy: 0.6858 - val_loss: 1.7113 - val_accuracy: 0.6167 - lr: 0.0010\n",
            "Epoch 33/50\n",
            "444/444 [==============================] - 6s 14ms/step - loss: 1.4965 - accuracy: 0.6923 - val_loss: 1.7289 - val_accuracy: 0.6099 - lr: 0.0010\n",
            "Epoch 34/50\n",
            "444/444 [==============================] - 6s 14ms/step - loss: 1.5010 - accuracy: 0.6829 - val_loss: 1.7633 - val_accuracy: 0.5874 - lr: 0.0010\n",
            "Epoch 35/50\n",
            "444/444 [==============================] - 6s 14ms/step - loss: 1.4866 - accuracy: 0.6928 - val_loss: 1.7866 - val_accuracy: 0.5924 - lr: 0.0010\n",
            "Epoch 36/50\n",
            "444/444 [==============================] - 6s 14ms/step - loss: 1.5034 - accuracy: 0.6875 - val_loss: 1.8797 - val_accuracy: 0.5648 - lr: 0.0010\n",
            "Epoch 37/50\n",
            "444/444 [==============================] - 6s 14ms/step - loss: 1.4772 - accuracy: 0.6928 - val_loss: 1.7355 - val_accuracy: 0.6246 - lr: 0.0010\n",
            "Epoch 38/50\n",
            "444/444 [==============================] - 6s 14ms/step - loss: 1.4709 - accuracy: 0.6938 - val_loss: 1.7406 - val_accuracy: 0.6015 - lr: 0.0010\n",
            "Epoch 39/50\n",
            "444/444 [==============================] - 6s 14ms/step - loss: 1.4752 - accuracy: 0.6959 - val_loss: 1.7549 - val_accuracy: 0.6144 - lr: 0.0010\n",
            "Epoch 40/50\n",
            "444/444 [==============================] - 6s 14ms/step - loss: 1.4772 - accuracy: 0.6990 - val_loss: 1.7280 - val_accuracy: 0.6110 - lr: 0.0010\n",
            "Epoch 41/50\n",
            "444/444 [==============================] - 6s 14ms/step - loss: 1.4582 - accuracy: 0.7002 - val_loss: 1.7436 - val_accuracy: 0.6015 - lr: 0.0010\n",
            "Epoch 42/50\n",
            "444/444 [==============================] - 6s 14ms/step - loss: 1.4693 - accuracy: 0.7024 - val_loss: 1.7955 - val_accuracy: 0.5930 - lr: 0.0010\n",
            "Epoch 43/50\n",
            "444/444 [==============================] - 6s 14ms/step - loss: 1.4696 - accuracy: 0.7043 - val_loss: 1.7825 - val_accuracy: 0.5958 - lr: 0.0010\n",
            "Epoch 44/50\n",
            "444/444 [==============================] - 6s 14ms/step - loss: 1.4614 - accuracy: 0.7024 - val_loss: 1.7497 - val_accuracy: 0.6139 - lr: 0.0010\n",
            "Epoch 45/50\n",
            "444/444 [==============================] - 6s 14ms/step - loss: 1.4563 - accuracy: 0.7050 - val_loss: 1.7390 - val_accuracy: 0.6195 - lr: 0.0010\n",
            "Epoch 46/50\n",
            "444/444 [==============================] - 6s 14ms/step - loss: 1.4664 - accuracy: 0.7004 - val_loss: 1.7473 - val_accuracy: 0.6263 - lr: 0.0010\n",
            "Epoch 47/50\n",
            "444/444 [==============================] - 6s 14ms/step - loss: 1.4535 - accuracy: 0.7077 - val_loss: 1.7057 - val_accuracy: 0.6302 - lr: 0.0010\n",
            "Epoch 48/50\n",
            "444/444 [==============================] - 6s 14ms/step - loss: 1.4499 - accuracy: 0.7074 - val_loss: 1.7059 - val_accuracy: 0.6285 - lr: 0.0010\n",
            "Epoch 49/50\n",
            "444/444 [==============================] - 6s 14ms/step - loss: 1.4359 - accuracy: 0.7126 - val_loss: 1.6640 - val_accuracy: 0.6460 - lr: 0.0010\n",
            "Epoch 50/50\n",
            "444/444 [==============================] - 6s 14ms/step - loss: 1.4300 - accuracy: 0.7126 - val_loss: 1.7275 - val_accuracy: 0.6178 - lr: 0.0010\n"
          ]
        }
      ]
    },
    {
      "cell_type": "code",
      "source": [
        "import matplotlib.pyplot as plt\n",
        "\n",
        "# get accuracies\n",
        "train_acc = history.history['accuracy']\n",
        "valid_acc = history.history['val_accuracy']\n",
        "\n",
        "# get losses\n",
        "train_loss = history.history['loss']\n",
        "valid_loss = history.history['val_loss']\n",
        "\n",
        "# create epoch's range\n",
        "epochs_range = range(1, len(train_acc) + 1)\n",
        "\n",
        "# plot epoch vs accuracy\n",
        "plt.figure(figsize=(12, 5))\n",
        "plt.subplot(1, 2, 1)\n",
        "plt.plot(epochs_range, train_acc, label='Train Accuracy')\n",
        "plt.plot(epochs_range, valid_acc, label='Validation Accuracy')\n",
        "plt.legend(loc='lower right')\n",
        "plt.title('Training and Validation Accuracy')\n",
        "\n",
        "# plot epoch vs loss\n",
        "plt.subplot(1, 2, 2)\n",
        "plt.plot(epochs_range, train_loss, label='Train Loss')\n",
        "plt.plot(epochs_range, valid_loss, label='Validation Loss')\n",
        "plt.legend(loc='upper right')\n",
        "plt.title('Training and Validation Loss')\n",
        "plt.show()\n"
      ],
      "metadata": {
        "colab": {
          "base_uri": "https://localhost:8080/",
          "height": 468
        },
        "id": "obQ6iiapMKXF",
        "outputId": "c50adec3-04fa-4907-dfd8-4f29cc798672"
      },
      "execution_count": null,
      "outputs": [
        {
          "output_type": "display_data",
          "data": {
            "text/plain": [
              "<Figure size 1200x500 with 2 Axes>"
            ],
            "image/png": "[encoded data removed]"
          },
          "metadata": {}
        }
      ]
    },
    {
      "cell_type": "code",
      "source": [
        "# delete unused data to release RAM\n",
        "del train_images, train_labels, valid_images, valid_labels"
      ],
      "metadata": {
        "id": "0RxDllExHurC"
      },
      "execution_count": null,
      "outputs": []
    },
    {
      "cell_type": "code",
      "source": [
        "# predict the data\n",
        "from sklearn import metrics\n",
        "predictions = model.predict(test_images)"
      ],
      "metadata": {
        "colab": {
          "base_uri": "https://localhost:8080/"
        },
        "id": "ILoUdfsJIePm",
        "outputId": "235815cd-717e-457f-a9d4-60716062d947"
      },
      "execution_count": null,
      "outputs": [
        {
          "output_type": "stream",
          "name": "stdout",
          "text": [
            "56/56 [==============================] - 1s 9ms/step\n"
          ]
        }
      ]
    },
    {
      "cell_type": "code",
      "source": [
        "# show the predictions\n",
        "predictions"
      ],
      "metadata": {
        "colab": {
          "base_uri": "https://localhost:8080/"
        },
        "id": "9JIW_z2P5KCj",
        "outputId": "82b7aa0b-43d8-4ffd-ba8e-f17ed4efa135"
      },
      "execution_count": null,
      "outputs": [
        {
          "output_type": "execute_result",
          "data": {
            "text/plain": [
              "array([[5.18990383e-02, 1.21056335e-02, 3.76936048e-01, ...,\n",
              "        6.59402832e-02, 5.39346875e-05, 1.69903797e-03],\n",
              "       [5.05362563e-02, 2.17773784e-02, 5.50559402e-01, ...,\n",
              "        1.07903123e-01, 1.71929714e-05, 1.10443728e-03],\n",
              "       [3.35085802e-02, 4.13567126e-02, 1.47938761e-06, ...,\n",
              "        2.39570322e-03, 9.01063740e-01, 4.51064343e-03],\n",
              "       ...,\n",
              "       [3.19984257e-01, 3.82388458e-02, 1.48097306e-05, ...,\n",
              "        8.74831900e-02, 1.26670422e-02, 1.26461469e-04],\n",
              "       [1.75730027e-02, 1.54576264e-02, 4.27180082e-02, ...,\n",
              "        1.65788494e-02, 2.23419502e-05, 2.43673167e-05],\n",
              "       [1.99794203e-01, 8.06452632e-02, 2.31020823e-02, ...,\n",
              "        1.99705347e-01, 1.07549960e-02, 2.22274172e-03]], dtype=float32)"
            ]
          },
          "metadata": {},
          "execution_count": 10
        }
      ]
    },
    {
      "cell_type": "code",
      "source": [
        "# show the test label\n",
        "test_labels"
      ],
      "metadata": {
        "colab": {
          "base_uri": "https://localhost:8080/"
        },
        "id": "DR3EGVdp5MHZ",
        "outputId": "a6ff938b-e1b1-4949-8008-15c708a771bc"
      },
      "execution_count": null,
      "outputs": [
        {
          "output_type": "execute_result",
          "data": {
            "text/plain": [
              "array([[0., 0., 1., ..., 0., 0., 0.],\n",
              "       [0., 0., 1., ..., 0., 0., 0.],\n",
              "       [0., 0., 0., ..., 0., 1., 0.],\n",
              "       ...,\n",
              "       [0., 0., 0., ..., 0., 0., 0.],\n",
              "       [0., 0., 0., ..., 0., 0., 0.],\n",
              "       [0., 1., 0., ..., 0., 0., 0.]], dtype=float32)"
            ]
          },
          "metadata": {},
          "execution_count": 11
        }
      ]
    },
    {
      "cell_type": "code",
      "source": [
        "from sklearn.metrics import accuracy_score, precision_score, recall_score, f1_score, roc_auc_score, confusion_matrix\n",
        "from sklearn.preprocessing import LabelBinarizer\n",
        "\n",
        "# turn predictions and test label into types\n",
        "test_labels_class = np.argmax(test_labels, axis=1)\n",
        "predictions_class = np.argmax(predictions, axis=1)\n",
        "\n",
        "# calculate test accuracy\n",
        "accuracy = accuracy_score(test_labels_class, predictions_class)\n",
        "\n",
        "# calculate precision, recall, f1 score\n",
        "precision = precision_score(test_labels_class, predictions_class, average='macro')\n",
        "recall = recall_score(test_labels_class, predictions_class, average='macro')\n",
        "f1 = f1_score(test_labels_class, predictions_class, average='macro')\n",
        "\n",
        "# calculate ROC, AUC\n",
        "lb = LabelBinarizer()\n",
        "lb.fit(test_labels_class)\n",
        "test_labels_bin = lb.transform(test_labels_class)\n",
        "predictions_bin = lb.transform(predictions_class)\n",
        "roc_auc = roc_auc_score(test_labels_bin, predictions_bin, average='macro')\n",
        "\n",
        "# calculate confusion matrix\n",
        "conf_mat = confusion_matrix(test_labels_class, predictions_class)\n",
        "\n",
        "print(f'Accuracy: {accuracy}')\n",
        "print(f'Precision: {precision}')\n",
        "print(f'Recall: {recall}')\n",
        "print(f'F1 Score: {f1}')\n",
        "print(f'ROC AUC Score: {roc_auc}')\n",
        "print(f'Confusion Matrix:\\n{conf_mat}')"
      ],
      "metadata": {
        "colab": {
          "base_uri": "https://localhost:8080/"
        },
        "id": "dMzG4CIrY2gf",
        "outputId": "599111c3-d0a6-44ba-fa81-47c3cec0af22"
      },
      "execution_count": null,
      "outputs": [
        {
          "output_type": "stream",
          "name": "stdout",
          "text": [
            "Accuracy: 0.6341600901916573\n",
            "Precision: 0.6125114532759236\n",
            "Recall: 0.6079551048586731\n",
            "F1 Score: 0.5992887523355357\n",
            "ROC AUC Score: 0.7833510964792412\n",
            "Confusion Matrix:\n",
            "[[ 28   7   8  16   1   6   7  20   5   3]\n",
            " [  5  83  23  18   3  19   7  12   8   3]\n",
            " [  3   6 224  11   0   4   8   9   0   0]\n",
            " [  5   2  20 175   0   1   2   5   0   1]\n",
            " [  5   0   0   8  14   0   0   0   3   1]\n",
            " [ 11   9   7   7   4 150  18  20   3   1]\n",
            " [  2   2   8   1   0  31 114  26   4   0]\n",
            " [ 18  16   8  11   0  38  55 108   3   1]\n",
            " [  2   1   0   0   0   0   0   0 128   1]\n",
            " [  2   9   0   7   5   2   1   2  48 101]]\n"
          ]
        }
      ]
    }
  ]
}